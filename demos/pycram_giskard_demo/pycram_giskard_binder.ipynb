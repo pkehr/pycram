{
 "cells": [
  {
   "cell_type": "markdown",
   "id": "6577676e",
   "metadata": {},
   "source": [
    "# Giskard interface and PyCRAM in Binder \n"
   ]
  },
  {
   "cell_type": "markdown",
   "id": "a86d4f3b",
   "metadata": {},
   "source": [
    "## Setup Robot"
   ]
  },
  {
   "cell_type": "code",
   "execution_count": null,
   "outputs": [],
   "source": [
    "from pycram.bullet_world import BulletWorld, Object\n",
    "from pycram.enums import ObjectType\n",
    "\n",
    "world = BulletWorld(\"DIRECT\")\n",
    "hsrb = Object(\"hsrb\", ObjectType.ROBOT, \"hsrb.urdf\")"
   ],
   "metadata": {
    "collapsed": false
   },
   "id": "50cd3e8d"
  },
  {
   "cell_type": "markdown",
   "id": "e4166109",
   "metadata": {},
   "source": [
    "## Run first goal"
   ]
  },
  {
   "cell_type": "code",
   "execution_count": null,
   "id": "79fb8a5a",
   "metadata": {
    "scrolled": true
   },
   "outputs": [],
   "source": [
    "from pycram.external_interfaces import giskard\n",
    "\n",
    "giskard.achieve_joint_goal({\"torso_lift_joint\": 0.28})"
   ]
  },
  {
   "cell_type": "markdown",
   "source": [
    "## Move robot base only"
   ],
   "metadata": {
    "collapsed": false
   },
   "id": "fe8caa55411da05"
  },
  {
   "cell_type": "code",
   "execution_count": null,
   "id": "ec79b6b5",
   "metadata": {},
   "outputs": [],
   "source": [
    "from pycram.external_interfaces import giskard\n",
    "from pycram.pose import Pose\n",
    "\n",
    "giskard.achieve_cartesian_goal(Pose([1, 0, 0]), \"base_link\", \"map\")"
   ]
  },
  {
   "cell_type": "markdown",
   "id": "98af5723",
   "metadata": {},
   "source": [
    "## Move whole robot"
   ]
  },
  {
   "cell_type": "code",
   "execution_count": null,
   "id": "a255212e",
   "metadata": {},
   "outputs": [],
   "source": [
    "from pycram.external_interfaces import giskard\n",
    "from pycram.pose import Pose\n",
    "\n",
    "giskard.achieve_cartesian_goal(Pose([1, 0.5, 0.7]), \"hand_gripper_tool_frame\", \"map\")"
   ]
  },
  {
   "cell_type": "markdown",
   "id": "7dfe78ba",
   "metadata": {},
   "source": [
    "## Exit Bulletworld"
   ]
  },
  {
   "cell_type": "code",
   "execution_count": null,
   "id": "197aa1f0",
   "metadata": {},
   "outputs": [],
   "source": [
    "world.exit()"
   ]
  }
 ],
 "metadata": {
  "kernelspec": {
   "display_name": "Python 3",
   "language": "python",
   "name": "python3"
  },
  "language_info": {
   "codemirror_mode": {
    "name": "ipython",
    "version": 3
   },
   "file_extension": ".py",
   "mimetype": "text/x-python",
   "name": "python",
   "nbconvert_exporter": "python",
   "pygments_lexer": "ipython3",
   "version": "3.8.10"
  }
 },
 "nbformat": 4,
 "nbformat_minor": 5
}
